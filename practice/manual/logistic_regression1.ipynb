{
 "cells": [
  {
   "cell_type": "code",
   "execution_count": 279,
   "metadata": {},
   "outputs": [],
   "source": [
    "import numpy as np\n",
    "import pandas as pd\n",
    "import matplotlib.pyplot as graph\n",
    "from sklearn.datasets import load_wine\n",
    "from sklearn.model_selection import train_test_split"
   ]
  },
  {
   "cell_type": "code",
   "execution_count": 280,
   "metadata": {},
   "outputs": [],
   "source": [
    "class LogisticRegression:\n",
    "    def __init__(self, learning_rate = 0.01, epoch = 1000):\n",
    "        self.bias = 0\n",
    "        self.weight = None\n",
    "        self.epoch = epoch\n",
    "        self.learning_rate = learning_rate\n",
    "    \n",
    "    def fit(self, x: np.ndarray, y: np.ndarray):\n",
    "        n_sample, n_feature = x.shape\n",
    "        self.weight = np.zeros(n_feature)\n",
    "\n",
    "        for _ in range(self.epoch):\n",
    "            pred = 1 / (1 + np.exp(-(x @ self.weight + self.bias)))\n",
    "            error = pred - y\n",
    "            \n",
    "            dw = (x.T @ error)/ n_sample\n",
    "            db = np.sum(error) / n_sample\n",
    "\n",
    "            self.weight -= self.learning_rate * dw\n",
    "            self.bias -= self.learning_rate * db\n",
    "\n",
    "    def predict(self, x: np.ndarray, threshold = 0.5):\n",
    "        pred =  1 / (1 + np.exp(-(x @ self.weight + self.bias)))\n",
    "        pred = (pred >= threshold).astype(int)\n",
    "\n",
    "        return pred\n",
    "    \n",
    "    def score(self, x_test: np.ndarray, y_test: np.ndarray, threshold = 0.5):\n",
    "        y_pred = self.predict(x_test)\n",
    "\n",
    "        true_pos = np.sum((y_pred == 1) & (y_test == 1))\n",
    "        false_neg = np.sum((y_pred == 0) & (y_test == 1))\n",
    "        false_pos = np.sum((y_pred == 1) & (y_test == 0))\n",
    "        true_neg = np.sum((y_pred == 0) & (y_test == 0))\n",
    "\n",
    "        recall = true_pos / (true_pos + false_neg) if (true_pos + false_neg) > 0 else 0\n",
    "        precision = true_pos / (true_pos + false_pos) if (true_pos + false_pos) > 0 else 0\n",
    "\n",
    "        return recall, precision\n",
    "    \n",
    "    def f1_score(self, x_test: np.ndarray, y_test: np.ndarray):\n",
    "        recall, precision = self.score(x_test, y_test)\n",
    "        \n",
    "        return 2 * recall * precision / (recall + precision) if (recall + precision) > 0 else 0"
   ]
  },
  {
   "cell_type": "code",
   "execution_count": 281,
   "metadata": {},
   "outputs": [],
   "source": [
    "iris = load_wine()\n",
    "regression = LogisticRegression()\n",
    "\n",
    "df = pd.DataFrame(data=iris.data, columns=iris.feature_names, dtype=np.float128)\n",
    "df['target'] = iris.target\n",
    "df['target'] = (df['target'] == 0).astype(int)"
   ]
  },
  {
   "cell_type": "code",
   "execution_count": 282,
   "metadata": {},
   "outputs": [],
   "source": [
    "x_train, x_test, y_train, y_test = train_test_split(df.drop(['target'], axis=1), df['target'], random_state=42, train_size=0.8)\n",
    "\n",
    "regression.fit(x_train, y_train)"
   ]
  },
  {
   "cell_type": "code",
   "execution_count": 283,
   "metadata": {},
   "outputs": [],
   "source": [
    "thresholds = np.linspace(0, 1, 10)\n",
    "\n",
    "x_plot = []\n",
    "y_plot = []\n",
    "\n",
    "for threshold in thresholds:\n",
    "    recall, precision = regression.score(x_test, y_test, threshold)\n",
    "    x_plot.append(recall)\n",
    "    y_plot.append(precision)"
   ]
  },
  {
   "cell_type": "code",
   "execution_count": 284,
   "metadata": {},
   "outputs": [
    {
     "data": {
      "image/png": "[encoded data removed]",
      "text/plain": [
       "<Figure size 640x480 with 1 Axes>"
      ]
     },
     "metadata": {},
     "output_type": "display_data"
    }
   ],
   "source": [
    "graph.plot(x_plot, y_plot, marker='o', linestyle='--', color='b', label=\"Precision Recall Curve\")\n",
    "graph.title(\"ROC Curve\")\n",
    "graph.xlabel(\"Precision\")\n",
    "graph.ylabel(\"Recall\")\n",
    "graph.legend()\n",
    "graph.show()\n",
    "\n",
    "# what da fok"
   ]
  }
 ],
 "metadata": {
  "kernelspec": {
   "display_name": ".venv",
   "language": "python",
   "name": "python3"
  },
  "language_info": {
   "codemirror_mode": {
    "name": "ipython",
    "version": 3
   },
   "file_extension": ".py",
   "mimetype": "text/x-python",
   "name": "python",
   "nbconvert_exporter": "python",
   "pygments_lexer": "ipython3",
   "version": "3.12.3"
  }
 },
 "nbformat": 4,
 "nbformat_minor": 2
}
