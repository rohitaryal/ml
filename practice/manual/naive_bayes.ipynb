{
 "cells": [
  {
   "cell_type": "code",
   "execution_count": 14,
   "metadata": {},
   "outputs": [],
   "source": [
    "import numpy as np\n",
    "import pandas as pd"
   ]
  },
  {
   "cell_type": "code",
   "execution_count": 15,
   "metadata": {},
   "outputs": [],
   "source": [
    "df = pd.read_csv(\"./datasets/weather.csv\")\n",
    "\n",
    "y = df[df.columns[-1]]\n",
    "x = df.drop(df.columns[-1], axis = 1)"
   ]
  },
  {
   "cell_type": "code",
   "execution_count": 16,
   "metadata": {},
   "outputs": [],
   "source": [
    "# Outcome probability\n",
    "\n",
    "outcome_probability = {}\n",
    "\n",
    "for outcome in np.unique(y):\n",
    "    outcome_probability[outcome] = sum(outcome == y) / len(y)"
   ]
  },
  {
   "cell_type": "code",
   "execution_count": 17,
   "metadata": {},
   "outputs": [],
   "source": [
    "# Calculate likelyhood for features\n",
    "\n",
    "likelyhood = {}\n",
    "\n",
    "for feature in x:\n",
    "    if not feature in likelyhood:\n",
    "        likelyhood[feature] = {}\n",
    "\n",
    "    for feature_value in np.unique(x[feature]):\n",
    "        count = 0\n",
    "        if not feature_value in likelyhood[feature]:\n",
    "            likelyhood[feature][feature_value] = {}\n",
    "\n",
    "        for outcome in np.unique(y):\n",
    "            likelyhood[feature][feature_value][outcome] = len(x[feature][(x[feature] == feature_value) & (y == outcome)])\n",
    "            count += likelyhood[feature][feature_value][outcome]\n",
    "\n",
    "        for outcome in np.unique(y):\n",
    "            likelyhood[feature][feature_value][outcome] /= count"
   ]
  },
  {
   "cell_type": "code",
   "execution_count": 18,
   "metadata": {},
   "outputs": [],
   "source": [
    "predict = ['Rainy', 'Mild', 'Normal', 'f']\n",
    "\n",
    "result = {}\n",
    "for feature_value, feature in zip(predict, likelyhood.keys()):\n",
    "    for outcome in np.unique(y):\n",
    "        if not outcome in result:\n",
    "            result[outcome] = outcome_probability[outcome]\n",
    "        \n",
    "        result[outcome] *= likelyhood[feature][feature_value][outcome]"
   ]
  },
  {
   "cell_type": "code",
   "execution_count": 19,
   "metadata": {},
   "outputs": [
    {
     "name": "stdout",
     "output_type": "stream",
     "text": [
      "{'no': 0.002551020408163265, 'yes': 0.11020408163265305}\n"
     ]
    }
   ],
   "source": [
    "print(result)"
   ]
  }
 ],
 "metadata": {
  "kernelspec": {
   "display_name": ".venv",
   "language": "python",
   "name": "python3"
  },
  "language_info": {
   "codemirror_mode": {
    "name": "ipython",
    "version": 3
   },
   "file_extension": ".py",
   "mimetype": "text/x-python",
   "name": "python",
   "nbconvert_exporter": "python",
   "pygments_lexer": "ipython3",
   "version": "3.12.3"
  }
 },
 "nbformat": 4,
 "nbformat_minor": 2
}
