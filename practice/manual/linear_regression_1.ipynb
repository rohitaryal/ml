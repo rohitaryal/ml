{
 "cells": [
  {
   "cell_type": "code",
   "execution_count": 22,
   "metadata": {},
   "outputs": [],
   "source": [
    "import numpy as np\n",
    "import matplotlib.pyplot as graph"
   ]
  },
  {
   "cell_type": "code",
   "execution_count": 23,
   "metadata": {},
   "outputs": [],
   "source": [
    "class LinearRegression:\n",
    "    def __init__(self, learning_rate = 0.01, epoch = 1000):\n",
    "        self.learning_rate = learning_rate\n",
    "        self.epoch = epoch\n",
    "        self.weight = None\n",
    "        self.bias = 0\n",
    "    \n",
    "    def fit(self, x, y):\n",
    "        n_samples, n_features = x.shape\n",
    "        self.weight = np.zeros(n_features)\n",
    "\n",
    "        for _ in range(self.epoch):\n",
    "            y_pred = x @ self.weight + self.bias\n",
    "            error = y_pred - y\n",
    "\n",
    "            dw = (x.T @ error) / n_samples\n",
    "            db = np.sum(error) / n_samples\n",
    "\n",
    "            self.weight -= self.learning_rate * dw\n",
    "            self.bias -= self.learning_rate * db\n",
    "    \n",
    "    def predict(self, x):\n",
    "        return x @ self.weight + self.bias\n",
    "    \n",
    "    def score(self, x_test, y_test):\n",
    "        y_pred = self.predict(x_test)\n",
    "\n",
    "        total = np.sum((y_test - np.mean(y_test)) ** 2)\n",
    "        residual = np.sum((y_test - y_pred) ** 2)\n",
    "        r_squared = 1 - residual / total\n",
    "\n",
    "        return r_squared"
   ]
  },
  {
   "cell_type": "code",
   "execution_count": 24,
   "metadata": {},
   "outputs": [],
   "source": [
    "# Lets make a random one\n",
    "x = np.random.rand(100, 1) * 10\n",
    "y = -4 * x.flatten() + 1\n",
    "\n",
    "x_train = np.random.rand(100, 1) * 10\n",
    "y_train = -4 * x_train.flatten() + 1"
   ]
  },
  {
   "cell_type": "code",
   "execution_count": 25,
   "metadata": {},
   "outputs": [
    {
     "name": "stdout",
     "output_type": "stream",
     "text": [
      "Weight =  [-3.98985312]\n",
      "Bias =  0.9299793455893738\n",
      "Score =  0.9999896655366458\n"
     ]
    }
   ],
   "source": [
    "regression = LinearRegression()\n",
    "\n",
    "\n",
    "regression.fit(x, y)\n",
    "print(\"Weight = \", regression.weight)\n",
    "print(\"Bias = \", regression.bias)\n",
    "print(\"Score = \", regression.score(x_train, y_train))"
   ]
  }
 ],
 "metadata": {
  "kernelspec": {
   "display_name": ".venv",
   "language": "python",
   "name": "python3"
  },
  "language_info": {
   "codemirror_mode": {
    "name": "ipython",
    "version": 3
   },
   "file_extension": ".py",
   "mimetype": "text/x-python",
   "name": "python",
   "nbconvert_exporter": "python",
   "pygments_lexer": "ipython3",
   "version": "3.12.3"
  }
 },
 "nbformat": 4,
 "nbformat_minor": 2
}
