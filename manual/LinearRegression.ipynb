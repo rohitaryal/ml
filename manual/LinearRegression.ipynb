{
 "cells": [
  {
   "cell_type": "code",
   "execution_count": 4,
   "id": "11721aa8",
   "metadata": {},
   "outputs": [],
   "source": [
    "import numpy as np\n",
    "\n",
    "class LinearRegression:\n",
    "    def __init__(self, learnginRate = 0.1, epoch = 1000):\n",
    "        self.bias = None\n",
    "        self.weights = None\n",
    "\n",
    "        self.epoch = epoch\n",
    "        self.learningRate = learnginRate"
   ]
  },
  {
   "cell_type": "code",
   "execution_count": null,
   "id": "ec269744",
   "metadata": {},
   "outputs": [],
   "source": []
  }
 ],
 "metadata": {
  "kernelspec": {
   "display_name": ".venv",
   "language": "python",
   "name": "python3"
  },
  "language_info": {
   "codemirror_mode": {
    "name": "ipython",
    "version": 3
   },
   "file_extension": ".py",
   "mimetype": "text/x-python",
   "name": "python",
   "nbconvert_exporter": "python",
   "pygments_lexer": "ipython3",
   "version": "3.12.3"
  }
 },
 "nbformat": 4,
 "nbformat_minor": 5
}
