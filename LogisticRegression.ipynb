{
 "cells": [
  {
   "cell_type": "markdown",
   "id": "7e5c7eb5",
   "metadata": {},
   "source": [
    "### Logistic Regression\n",
    "\n",
    "Here we fit a linear function into a sigmoid squishfication function that squishes any value in the range $(0,1)$.\n",
    "\n",
    "Hypothesis: $h_\\theta(x) = \\sum_{i=1}^{m}(X_i\\theta_i) + \\theta_0$\n",
    "\n",
    "Sigmoid($\\sigma(h_\\theta(x))$) = $\\frac{1}{1 + \\exp(-h_\\theta(x))}$"
   ]
  },
  {
   "cell_type": "code",
   "execution_count": null,
   "id": "43c21fab",
   "metadata": {},
   "outputs": [],
   "source": [
    "import numpy as np\n",
    "import matplotlib.pyplot as plt\n",
    "from sklearn.metrics import precision_score as precision, recall_score as recall, f1_score as f1\n",
    "\n",
    "class LogisticRegression:\n",
    "    def __init__(self, learningRate = 0.1, threshold = 0.5, epoch = 1000):\n",
    "        self.epoch = epoch\n",
    "        self.threshold = threshold\n",
    "        self.learningRate = learningRate\n",
    "\n",
    "        self.weight = self.bias = None\n",
    "\n",
    "        self.mean = self.std = None\n",
    "    \n",
    "    def train(self, x: np.ndarray, y: np.ndarray):\n",
    "        [m, n] = x.shape\n",
    "        \n",
    "        self.bias = 0\n",
    "        self.weight = np.zeros((n, 1))\n",
    "        self.cost = np.zeros(self.epoch)\n",
    "\n",
    "        self.mean = x.mean(axis=0)\n",
    "        self.std = x.std(axis=0)\n",
    "\n",
    "        self.std[self.std == 0] = 1 # prevent zero division\n",
    "\n",
    "        x = (x - self.mean) / self.std\n",
    "        y = y.reshape((-1,1))\n",
    "\n",
    "        for i in range(self.epoch):\n",
    "            if i != 0 and i % 500 == 0:\n",
    "                print(f\"[i] Completed {i} epochs\")\n",
    "\n",
    "            hx = x @ self.weight + self.bias\n",
    "            y_pred = 1 / (1 + np.exp(-hx))\n",
    "\n",
    "            error = y_pred - y\n",
    "\n",
    "            dw = (x.T @ error) / m\n",
    "            db = np.sum(error) / m\n",
    "\n",
    "            self.weight -= self.learningRate * dw\n",
    "            self.bias -= self.learningRate * db\n",
    "\n",
    "            self.cost[i] = -(y.T @ np.log(y_pred) + (1 - y).T @ np.log(1 - y_pred)).item() / m\n",
    "    \n",
    "    def predict(self, x:np.ndarray):\n",
    "        if self.weight is None or self.bias is None or self.mean is None or self.std is None:\n",
    "            raise Exception(\"Please train the model first before prediction\")\n",
    "        \n",
    "        # assuming no. of features match\n",
    "        x = (x - self.mean) / self.std\n",
    "        hx = x @ self.weight + self.bias\n",
    "        y_pred = 1 / (1 + np.exp(-hx))\n",
    "\n",
    "        y_pred_classified = (y_pred >= self.threshold).astype(int)\n",
    "\n",
    "        return y_pred_classified\n",
    "    \n",
    "    def test(self, x:np.ndarray, y: np.ndarray):\n",
    "        if self.weight is None or self.bias is None or self.mean is None or self.std is None:\n",
    "            raise Exception(\"Please train the model first before prediction\")\n",
    "        \n",
    "        y_pred = self.predict(x)\n",
    "\n",
    "        return {\n",
    "            \"f1\": f1(y, y_pred),\n",
    "            \"recall\": recall(y, y_pred),\n",
    "            \"precision\": precision(y, y_pred),\n",
    "        }\n",
    "\n",
    "    def plot_cost(self):\n",
    "        if self.weight is None or self.bias is None or self.cost is None:\n",
    "            raise Exception(\"Please train the model before plotting cost\")\n",
    "        \n",
    "        x = np.arange(self.epoch)\n",
    "        y = self.cost\n",
    "\n",
    "        plt.plot(x, y, label=\"Cost Function\", color=\"skyblue\")\n",
    "\n",
    "        plt.xlabel(\"Iterations\")\n",
    "        plt.ylabel(\"Cost\")\n",
    "\n",
    "        plt.grid(alpha=0.4)\n",
    "        plt.legend()\n",
    "\n",
    "        plt.show()"
   ]
  },
  {
   "cell_type": "code",
   "execution_count": 50,
   "id": "67cce817",
   "metadata": {},
   "outputs": [],
   "source": [
    "from sklearn.datasets import load_breast_cancer\n",
    "from sklearn.model_selection import train_test_split\n",
    "\n",
    "[x, y] = load_breast_cancer(return_X_y=True)\n",
    "\n",
    "x_train, x_test, y_train, y_test = train_test_split(x, y, random_state=4)"
   ]
  },
  {
   "cell_type": "code",
   "execution_count": 56,
   "id": "2cced42c",
   "metadata": {},
   "outputs": [],
   "source": [
    "model = LogisticRegression(threshold=0.3, epoch=100)\n",
    "model.train(x_train, y_train)"
   ]
  },
  {
   "cell_type": "code",
   "execution_count": 57,
   "id": "0d7caa2c",
   "metadata": {},
   "outputs": [
    {
     "name": "stdout",
     "output_type": "stream",
     "text": [
      "{'f1': 0.9844559585492227, 'recall': 1.0, 'precision': 0.9693877551020408}\n"
     ]
    }
   ],
   "source": [
    "print(model.test(x_test, y_test))"
   ]
  },
  {
   "cell_type": "code",
   "execution_count": 58,
   "id": "3f28da38",
   "metadata": {},
   "outputs": [
    {
     "data": {
      "image/png": "[encoded data removed]",
      "text/plain": [
       "<Figure size 640x480 with 1 Axes>"
      ]
     },
     "metadata": {},
     "output_type": "display_data"
    }
   ],
   "source": [
    "model.plot_cost()"
   ]
  }
 ],
 "metadata": {
  "kernelspec": {
   "display_name": ".venv",
   "language": "python",
   "name": "python3"
  },
  "language_info": {
   "codemirror_mode": {
    "name": "ipython",
    "version": 3
   },
   "file_extension": ".py",
   "mimetype": "text/x-python",
   "name": "python",
   "nbconvert_exporter": "python",
   "pygments_lexer": "ipython3",
   "version": "3.13.5"
  }
 },
 "nbformat": 4,
 "nbformat_minor": 5
}
