{
 "cells": [
  {
   "cell_type": "markdown",
   "id": "e383f084",
   "metadata": {},
   "source": [
    "### Linear Regression\n",
    "\n",
    "#### Model Evaluations:\n",
    "---\n",
    "1. $R^2$\n",
    "\n",
    "$\n",
    "R^2 = 1 - \\frac{\\sum_{i=1}^m(y_i - \\hat{y_i})^2}{\\sum_{i=1}^m(y_i - \\bar{y})^2}\n",
    "$\n",
    "\n",
    "$R^2$ measures the goodness of fit. Its value ranges in between $[-1, 1]$ and $1$ represents the model that captures $100\\%$ of variance (overfitting). It can be sometime *negative* in case of poor fiiting or non linear relationship. The main issue with $R^2$ is that, it increases when more predictors (features/independent variables) are added.\n",
    "\n",
    "2. Adjusted $R^2$\n",
    "\n",
    "$\n",
    "\\bar{R^2} = 1 - \\frac{(R^2 - 1)(m - 1)}{m - n - 1}\n",
    "$\n",
    "\n",
    "Here, $m$ refers to number of samples and $n$ refers to number of features. While $R^2$ increases when more predictors are added, adjusted $R^2$ only increases when added predictors genuinely improve the model.\n",
    "\n",
    "\n",
    "#### Scaling Techniques:\n",
    "---\n",
    "\n",
    "1. Standardization / Z-Score scaling\n",
    "\n",
    "$\n",
    "x' = \\frac{x-\\bar{x}}{\\sigma}\n",
    "$\n",
    "\n",
    "Standardization centers the features at mean($\\bar{x}$) $0$ with standard deviation($\\sigma$) $1$.\n",
    "\n",
    "2. Normalization\n",
    "\n",
    "$\n",
    "x' = \\frac{x - x_{min}}{x_{max} - x_{min}}\n",
    "$\n",
    "\n",
    "It scales down the features in range of $[0, 1]$"
   ]
  },
  {
   "cell_type": "code",
   "execution_count": 25,
   "id": "11721aa8",
   "metadata": {},
   "outputs": [],
   "source": [
    "import numpy as np\n",
    "import matplotlib.pyplot as plt\n",
    "\n",
    "class LinearRegression:\n",
    "    def __init__(self, learning_rate: float = 0.1, epoch: int = 1000):\n",
    "        self.epoch = epoch\n",
    "        self.learning_rate = learning_rate\n",
    "\n",
    "        self.mean = self.std = None # for scaling features\n",
    "\n",
    "        self.bias = self.weight = self.cost = None\n",
    "    \n",
    "    def train(self, x: np.ndarray, y: np.ndarray):\n",
    "        m = x.shape[0] # no. of samples\n",
    "        n = x.shape[1] # no. of features\n",
    "\n",
    "        self.bias = 0\n",
    "        self.weight = np.zeros((n, 1))\n",
    "        self.cost = np.zeros(self.epoch)\n",
    "\n",
    "        self.mean = x.mean(axis=0)\n",
    "        self.std = x.std(axis=0)\n",
    "\n",
    "        self.std[self.std == 0] = 1 # Prevent division by zero\n",
    "\n",
    "        x = (x - self.mean) / self.std\n",
    "        y = y.reshape(-1, 1)\n",
    "\n",
    "        for i in range(self.epoch):\n",
    "            if i != 0 and i % 500 == 0:\n",
    "                print(f\"[i] Completed {i} epochs\")\n",
    "\n",
    "            y_pred = x @ self.weight + self.bias\n",
    "            error = y_pred - y\n",
    "\n",
    "            dw = (x.T @ error) / m\n",
    "            db = np.sum(error) / m\n",
    "\n",
    "            self.weight -= self.learning_rate * dw\n",
    "            self.bias -= self.learning_rate * db\n",
    "            self.cost[i] = np.mean(error ** 2) / 2\n",
    "    \n",
    "    def train_stochastic(self, x: np.ndarray, y: np.ndarray):\n",
    "        m, n = x.shape\n",
    "        \n",
    "        self.bias = 0\n",
    "        self.weight = np.zeros((n, 1))\n",
    "        self.cost = np.zeros(self.epoch)\n",
    "\n",
    "        self.mean = x.mean(axis=0)\n",
    "        self.std = x.std(axis=0)\n",
    "\n",
    "        self.std[self.std == 0] = 1 # Prevent division by zero\n",
    "\n",
    "        x = (x - self.mean) / self.std\n",
    "        y = y.reshape(-1, 1)\n",
    "\n",
    "        for i in range(self.epoch):\n",
    "            for j in range(m):\n",
    "                xj = x[j,:].reshape(1, -1)\n",
    "                yj = y[j]\n",
    "\n",
    "                y_pred = xj @ self.weight + self.bias\n",
    "                error = y_pred - yj\n",
    "\n",
    "                dw = xj.T @ error\n",
    "                db = np.sum(error)\n",
    "\n",
    "                self.weight -= self.learning_rate * dw\n",
    "                self.bias -= self.learning_rate * db\n",
    "            \n",
    "            y_pred_all = x @ self.weight + self.bias\n",
    "            error = y_pred_all - y\n",
    "\n",
    "            self.cost[i] = np.mean(error ** 2) / 2\n",
    "   \n",
    "    def train_minibatch(self, x: np.ndarray, y: np.ndarray, batch_size = 100):\n",
    "        m, n = x.shape\n",
    "\n",
    "        self.bias = 0\n",
    "        self.weight = np.zeros((n, 1))\n",
    "        self.cost = np.zeros(self.epoch)\n",
    "\n",
    "        self.mean = x.mean(axis=0)\n",
    "        self.std = x.std(axis=0)\n",
    "\n",
    "        self.std[self.std == 0] = 1 # Prevent division by zero\n",
    "        y = y.reshape(-1, 1)\n",
    "\n",
    "        for i in range(self.epoch):\n",
    "            for j in range(0, m, batch_size):\n",
    "                xi = x[j:j+batch_size, :]\n",
    "                yi = y[j:j+batch_size]\n",
    "\n",
    "                y_pred = xi @ self.weight + self.bias\n",
    "                error = y_pred - yi\n",
    "\n",
    "                dw = (xi.T @ error) / batch_size\n",
    "                db = np.sum(error) / batch_size\n",
    "\n",
    "                self.weight -= self.learning_rate * dw\n",
    "                self.bias -= self.learning_rate * db\n",
    "\n",
    "            y_pred_all = x @ self.weight + self.bias\n",
    "            error = y_pred_all - y    \n",
    "            self.cost[i] = np.mean(error ** 2) / 2\n",
    "\n",
    "    def predict(self, x: np.ndarray):\n",
    "        if self.weight is None or self.bias is None:\n",
    "            raise Exception(\"Train the model before predicting\")\n",
    "        \n",
    "        x = (x - self.mean) / self.std      # scale wrt test features\n",
    "        y_pred = x @ self.weight + self.bias\n",
    "\n",
    "        return y_pred\n",
    "\n",
    "    def test(self, x: np.ndarray, y: np.ndarray):\n",
    "        if self.weight is None or self.bias is None:\n",
    "            raise Exception(\"Train the model before testing\")\n",
    "        \n",
    "        y = y.reshape(-1, 1)\n",
    "\n",
    "        actual = y\n",
    "        pred = self.predict(x)\n",
    "        \n",
    "        u_var = np.sum((actual - pred) ** 2)                # unexplained variation\n",
    "        t_var = np.sum((actual - actual.mean(axis=0)) ** 2) # total variation\n",
    "\n",
    "        if t_var == 0: # prevent division by zero\n",
    "            return 0\n",
    "\n",
    "        r_squared = 1 - u_var / t_var\n",
    "\n",
    "        return r_squared\n",
    "    \n",
    "    def plot_cost(self):\n",
    "        if self.weight is None or self.bias is None or self.cost is None:\n",
    "            raise Exception(\"Please train the model before plot\")\n",
    "\n",
    "        x = np.arange(self.epoch)\n",
    "        y = self.cost\n",
    "\n",
    "        plt.plot(x, y, label=\"Cost Function\", color='skyblue')\n",
    "\n",
    "        plt.xlabel(\"Iterations\")\n",
    "        plt.ylabel(\"Cost\")\n",
    "\n",
    "        plt.grid(alpha=0.2)\n",
    "        plt.legend()\n",
    "\n",
    "        plt.show()"
   ]
  },
  {
   "cell_type": "code",
   "execution_count": 26,
   "id": "ec269744",
   "metadata": {},
   "outputs": [],
   "source": [
    "from sklearn.datasets import load_iris\n",
    "from sklearn.model_selection import train_test_split\n",
    "\n",
    "iris = load_iris(return_X_y=True)\n",
    "model = LinearRegression(epoch=1000)\n",
    "\n",
    "x = iris[0]\n",
    "y = iris[1]\n",
    "\n",
    "x_train, x_test, y_train, y_test = train_test_split(x, y, random_state=4)"
   ]
  },
  {
   "cell_type": "markdown",
   "id": "52e13ad8",
   "metadata": {},
   "source": [
    "#### Batch gradient descent"
   ]
  },
  {
   "cell_type": "code",
   "execution_count": 27,
   "id": "1a231241",
   "metadata": {},
   "outputs": [
    {
     "name": "stdout",
     "output_type": "stream",
     "text": [
      "[i] Completed 500 epochs\n",
      "[i] R2 Error: 0.9359137023759835\n"
     ]
    }
   ],
   "source": [
    "model.train(x_train, y_train)\n",
    "\n",
    "error = model.test(x_test, y_test)\n",
    "\n",
    "print(f\"[i] R2 Error: {error}\")"
   ]
  },
  {
   "cell_type": "code",
   "execution_count": 28,
   "id": "e69a2d84",
   "metadata": {},
   "outputs": [
    {
     "data": {
      "image/png": "[encoded data removed]",
      "text/plain": [
       "<Figure size 640x480 with 1 Axes>"
      ]
     },
     "metadata": {},
     "output_type": "display_data"
    }
   ],
   "source": [
    "model.plot_cost()"
   ]
  },
  {
   "cell_type": "markdown",
   "id": "c2f252b3",
   "metadata": {},
   "source": [
    "#### Stochastic gradient descent"
   ]
  },
  {
   "cell_type": "code",
   "execution_count": 29,
   "id": "67066c32",
   "metadata": {},
   "outputs": [
    {
     "name": "stdout",
     "output_type": "stream",
     "text": [
      "[i] R2 Error: 0.9318995546874973\n"
     ]
    }
   ],
   "source": [
    "model.train_stochastic(x_train, y_train)\n",
    "error = model.test(x_test, y_test)\n",
    "\n",
    "print(f\"[i] R2 Error: {error}\")"
   ]
  },
  {
   "cell_type": "code",
   "execution_count": 30,
   "id": "f9a9d7d5",
   "metadata": {},
   "outputs": [
    {
     "data": {
      "image/png": "[encoded data removed]",
      "text/plain": [
       "<Figure size 640x480 with 1 Axes>"
      ]
     },
     "metadata": {},
     "output_type": "display_data"
    }
   ],
   "source": [
    "model.plot_cost()"
   ]
  },
  {
   "cell_type": "markdown",
   "id": "54967fe8",
   "metadata": {},
   "source": [
    "#### Mini-Batch gradient descent"
   ]
  },
  {
   "cell_type": "code",
   "execution_count": 31,
   "id": "4369ae66",
   "metadata": {},
   "outputs": [
    {
     "name": "stdout",
     "output_type": "stream",
     "text": [
      "[i] R2 Error: -0.15932726389168428\n"
     ]
    }
   ],
   "source": [
    "model.train_minibatch(x_train, y_train)\n",
    "error = model.test(x_test, y_test)\n",
    "\n",
    "print(f\"[i] R2 Error: {error}\")"
   ]
  },
  {
   "cell_type": "code",
   "execution_count": 32,
   "id": "bd2f4bf8",
   "metadata": {},
   "outputs": [
    {
     "data": {
      "image/png": "[encoded data removed]",
      "text/plain": [
       "<Figure size 640x480 with 1 Axes>"
      ]
     },
     "metadata": {},
     "output_type": "display_data"
    }
   ],
   "source": [
    "model.plot_cost()"
   ]
  },
  {
   "cell_type": "markdown",
   "id": "e7fc622c",
   "metadata": {},
   "source": [
    "#### Normal Equation\n",
    "\n",
    "Parameters can also be predicted using the normal equation formula but have some seriouos caveats. Make sure you have an augmented column in the feature matrix.\n",
    "\n",
    "$\n",
    "\\theta = (X^TX)^{-1}X^TY\n",
    "$\n",
    "\n",
    "The caveats include:\n",
    "1. Should not be a singular matrix (`iris`'s feature matrix is a singular matrix)\n",
    "2. Should not repeat a statistical unit twice in dataset or else the matrix becomes singular"
   ]
  },
  {
   "cell_type": "code",
   "execution_count": 33,
   "id": "282a3ae7",
   "metadata": {},
   "outputs": [],
   "source": [
    "# augmented_x = np.c_[np.zeros((x.shape[0], 1)), x]\n",
    "# Here we will encounter the singular matrix error\n",
    "# *weight, bias = np.linalg.inv(augmented_x.T @ augmented_x) @ augmented_x.T @ y "
   ]
  }
 ],
 "metadata": {
  "kernelspec": {
   "display_name": ".venv",
   "language": "python",
   "name": "python3"
  },
  "language_info": {
   "codemirror_mode": {
    "name": "ipython",
    "version": 3
   },
   "file_extension": ".py",
   "mimetype": "text/x-python",
   "name": "python",
   "nbconvert_exporter": "python",
   "pygments_lexer": "ipython3",
   "version": "3.13.5"
  }
 },
 "nbformat": 4,
 "nbformat_minor": 5
}
